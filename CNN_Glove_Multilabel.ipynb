{
 "cells": [
  {
   "cell_type": "code",
   "execution_count": 1,
   "id": "f96812ec",
   "metadata": {},
   "outputs": [
    {
     "name": "stdout",
     "output_type": "stream",
     "text": [
      "2.11.0\n"
     ]
    }
   ],
   "source": [
    "import numpy as np\n",
    "import pandas as pd\n",
    "import seaborn as sns\n",
    "import matplotlib as plt\n",
    "import tensorflow as tf\n",
    "from tensorflow.keras.preprocessing import text, sequence\n",
    "from tensorflow.keras.models import Sequential\n",
    "from tensorflow.keras.layers import Dense, Dropout, Activation\n",
    "from tensorflow.keras.layers import Embedding\n",
    "from tensorflow.keras.layers import Conv1D, GlobalMaxPooling1D, MaxPooling1D\n",
    "from sklearn.model_selection import train_test_split\n",
    "print(tf.__version__)\n"
   ]
  },
  {
   "cell_type": "code",
   "execution_count": 2,
   "id": "a834f1a7",
   "metadata": {},
   "outputs": [
    {
     "data": {
      "text/html": [
       "<div>\n",
       "<style scoped>\n",
       "    .dataframe tbody tr th:only-of-type {\n",
       "        vertical-align: middle;\n",
       "    }\n",
       "\n",
       "    .dataframe tbody tr th {\n",
       "        vertical-align: top;\n",
       "    }\n",
       "\n",
       "    .dataframe thead th {\n",
       "        text-align: right;\n",
       "    }\n",
       "</style>\n",
       "<table border=\"1\" class=\"dataframe\">\n",
       "  <thead>\n",
       "    <tr style=\"text-align: right;\">\n",
       "      <th></th>\n",
       "      <th>id</th>\n",
       "      <th>comment_text</th>\n",
       "      <th>toxic</th>\n",
       "      <th>severe_toxic</th>\n",
       "      <th>obscene</th>\n",
       "      <th>threat</th>\n",
       "      <th>insult</th>\n",
       "      <th>identity_hate</th>\n",
       "    </tr>\n",
       "  </thead>\n",
       "  <tbody>\n",
       "    <tr>\n",
       "      <th>159566</th>\n",
       "      <td>ffe987279560d7ff</td>\n",
       "      <td>\":::::And for the second time of asking, when ...</td>\n",
       "      <td>0</td>\n",
       "      <td>0</td>\n",
       "      <td>0</td>\n",
       "      <td>0</td>\n",
       "      <td>0</td>\n",
       "      <td>0</td>\n",
       "    </tr>\n",
       "    <tr>\n",
       "      <th>159567</th>\n",
       "      <td>ffea4adeee384e90</td>\n",
       "      <td>You should be ashamed of yourself \\n\\nThat is ...</td>\n",
       "      <td>0</td>\n",
       "      <td>0</td>\n",
       "      <td>0</td>\n",
       "      <td>0</td>\n",
       "      <td>0</td>\n",
       "      <td>0</td>\n",
       "    </tr>\n",
       "    <tr>\n",
       "      <th>159568</th>\n",
       "      <td>ffee36eab5c267c9</td>\n",
       "      <td>Spitzer \\n\\nUmm, theres no actual article for ...</td>\n",
       "      <td>0</td>\n",
       "      <td>0</td>\n",
       "      <td>0</td>\n",
       "      <td>0</td>\n",
       "      <td>0</td>\n",
       "      <td>0</td>\n",
       "    </tr>\n",
       "    <tr>\n",
       "      <th>159569</th>\n",
       "      <td>fff125370e4aaaf3</td>\n",
       "      <td>And it looks like it was actually you who put ...</td>\n",
       "      <td>0</td>\n",
       "      <td>0</td>\n",
       "      <td>0</td>\n",
       "      <td>0</td>\n",
       "      <td>0</td>\n",
       "      <td>0</td>\n",
       "    </tr>\n",
       "    <tr>\n",
       "      <th>159570</th>\n",
       "      <td>fff46fc426af1f9a</td>\n",
       "      <td>\"\\nAnd ... I really don't think you understand...</td>\n",
       "      <td>0</td>\n",
       "      <td>0</td>\n",
       "      <td>0</td>\n",
       "      <td>0</td>\n",
       "      <td>0</td>\n",
       "      <td>0</td>\n",
       "    </tr>\n",
       "  </tbody>\n",
       "</table>\n",
       "</div>"
      ],
      "text/plain": [
       "                      id                                       comment_text  \\\n",
       "159566  ffe987279560d7ff  \":::::And for the second time of asking, when ...   \n",
       "159567  ffea4adeee384e90  You should be ashamed of yourself \\n\\nThat is ...   \n",
       "159568  ffee36eab5c267c9  Spitzer \\n\\nUmm, theres no actual article for ...   \n",
       "159569  fff125370e4aaaf3  And it looks like it was actually you who put ...   \n",
       "159570  fff46fc426af1f9a  \"\\nAnd ... I really don't think you understand...   \n",
       "\n",
       "        toxic  severe_toxic  obscene  threat  insult  identity_hate  \n",
       "159566      0             0        0       0       0              0  \n",
       "159567      0             0        0       0       0              0  \n",
       "159568      0             0        0       0       0              0  \n",
       "159569      0             0        0       0       0              0  \n",
       "159570      0             0        0       0       0              0  "
      ]
     },
     "execution_count": 2,
     "metadata": {},
     "output_type": "execute_result"
    }
   ],
   "source": [
    "train_df=pd.read_csv('train.csv').fillna(' ')\n",
    "test_df=pd.read_csv('test.csv').fillna(' ')\n",
    "train_df.tail()"
   ]
  },
  {
   "cell_type": "code",
   "execution_count": 3,
   "id": "a61fdba5",
   "metadata": {},
   "outputs": [
    {
     "data": {
      "text/plain": [
       "array([\"Explanation\\nWhy the edits made under my username Hardcore Metallica Fan were reverted? They weren't vandalisms, just closure on some GAs after I voted at New York Dolls FAC. And please don't remove the template from the talk page since I'm retired now.89.205.38.27\",\n",
       "       \"D'aww! He matches this background colour I'm seemingly stuck with. Thanks.  (talk) 21:51, January 11, 2016 (UTC)\",\n",
       "       \"Hey man, I'm really not trying to edit war. It's just that this guy is constantly removing relevant information and talking to me through edits instead of my talk page. He seems to care more about the formatting than the actual info.\",\n",
       "       ...,\n",
       "       'Spitzer \\n\\nUmm, theres no actual article for prostitution ring.  - Crunch Captain.',\n",
       "       'And it looks like it was actually you who put on the speedy to have the first version deleted now that I look at it.',\n",
       "       '\"\\nAnd ... I really don\\'t think you understand.  I came here and my idea was bad right away.  What kind of community goes \"\"you have bad ideas\"\" go away, instead of helping rewrite them.   \"'],\n",
       "      dtype=object)"
      ]
     },
     "execution_count": 3,
     "metadata": {},
     "output_type": "execute_result"
    }
   ],
   "source": [
    "x=train_df['comment_text'].values\n",
    "x"
   ]
  },
  {
   "cell_type": "code",
   "execution_count": 4,
   "id": "0e9f2279",
   "metadata": {},
   "outputs": [
    {
     "data": {
      "text/plain": [
       "array([[0, 0, 0, 0, 0, 0],\n",
       "       [0, 0, 0, 0, 0, 0],\n",
       "       [0, 0, 0, 0, 0, 0],\n",
       "       ...,\n",
       "       [0, 0, 0, 0, 0, 0],\n",
       "       [0, 0, 0, 0, 0, 0],\n",
       "       [0, 0, 0, 0, 0, 0]], dtype=int64)"
      ]
     },
     "execution_count": 4,
     "metadata": {},
     "output_type": "execute_result"
    }
   ],
   "source": [
    "y = train_df[['toxic', 'severe_toxic', 'obscene', 'threat', 'insult', 'identity_hate']].values\n",
    "y"
   ]
  },
  {
   "cell_type": "code",
   "execution_count": 5,
   "id": "8c55565f",
   "metadata": {},
   "outputs": [],
   "source": [
    "max_features=20000\n",
    "max_text_length=400"
   ]
  },
  {
   "cell_type": "code",
   "execution_count": 6,
   "id": "f5dcb59b",
   "metadata": {},
   "outputs": [],
   "source": [
    "x_tokenizer=text.Tokenizer(max_features)\n",
    "x_tokenizer.fit_on_texts(list(x))\n",
    "x_tokenized=x_tokenizer.texts_to_sequences(x)\n",
    "x_train_val=sequence.pad_sequences(x_tokenized,maxlen=max_text_length)"
   ]
  },
  {
   "cell_type": "code",
   "execution_count": 7,
   "id": "7854ec3d",
   "metadata": {},
   "outputs": [
    {
     "data": {
      "text/plain": [
       "array([[    0,     0,     0, ...,  4583,  2273,   985],\n",
       "       [    0,     0,     0, ...,   589,  8377,   182],\n",
       "       [    0,     0,     0, ...,     1,   737,   468],\n",
       "       ...,\n",
       "       [    0,     0,     0, ...,  3509, 13675,  4528],\n",
       "       [    0,     0,     0, ...,   151,    34,    11],\n",
       "       [    0,     0,     0, ...,  1627,  2056,    88]])"
      ]
     },
     "execution_count": 7,
     "metadata": {},
     "output_type": "execute_result"
    }
   ],
   "source": [
    "x_train_val"
   ]
  },
  {
   "cell_type": "code",
   "execution_count": 8,
   "id": "6f38a2d7",
   "metadata": {},
   "outputs": [
    {
     "name": "stdout",
     "output_type": "stream",
     "text": [
      "Found 400000 word vectors\n"
     ]
    }
   ],
   "source": [
    "embedding_dim=100\n",
    "embedding_index=dict()\n",
    "f=open('glove.6B.100d.txt', encoding='utf-8')\n",
    "for line in f:\n",
    "    values=line.split()\n",
    "    word=values[0]\n",
    "    coefs=np.asarray(values[1:],dtype='float32') \n",
    "    embedding_index[word]=coefs\n",
    "    \n",
    "f.close()\n",
    "print(f'Found {len(embedding_index)} word vectors')"
   ]
  },
  {
   "cell_type": "code",
   "execution_count": 9,
   "id": "679cadba",
   "metadata": {},
   "outputs": [],
   "source": [
    "embedding_matrix=np.zeros((max_features,embedding_dim))\n",
    "for word,index in x_tokenizer.word_index.items():\n",
    "    if index>max_features-1:\n",
    "        break\n",
    "    else:\n",
    "        embedding_vector=embedding_index.get(word)\n",
    "        if embedding_vector is not None:\n",
    "            embedding_matrix[index]=embedding_vector"
   ]
  },
  {
   "cell_type": "code",
   "execution_count": 10,
   "id": "a6fc9f69",
   "metadata": {},
   "outputs": [
    {
     "name": "stdout",
     "output_type": "stream",
     "text": [
      "Model: \"sequential\"\n",
      "_________________________________________________________________\n",
      " Layer (type)                Output Shape              Param #   \n",
      "=================================================================\n",
      " embedding (Embedding)       (None, 400, 100)          2000000   \n",
      "                                                                 \n",
      " dropout (Dropout)           (None, 400, 100)          0         \n",
      "                                                                 \n",
      " conv1d (Conv1D)             (None, 398, 250)          75250     \n",
      "                                                                 \n",
      " max_pooling1d (MaxPooling1D  (None, 199, 250)         0         \n",
      " )                                                               \n",
      "                                                                 \n",
      " conv1d_1 (Conv1D)           (None, 195, 250)          312750    \n",
      "                                                                 \n",
      " global_max_pooling1d (Globa  (None, 250)              0         \n",
      " lMaxPooling1D)                                                  \n",
      "                                                                 \n",
      " dense (Dense)               (None, 250)               62750     \n",
      "                                                                 \n",
      " dropout_1 (Dropout)         (None, 250)               0         \n",
      "                                                                 \n",
      " dense_1 (Dense)             (None, 6)                 1506      \n",
      "                                                                 \n",
      "=================================================================\n",
      "Total params: 2,452,256\n",
      "Trainable params: 452,256\n",
      "Non-trainable params: 2,000,000\n",
      "_________________________________________________________________\n"
     ]
    }
   ],
   "source": [
    "model_multi_label = Sequential()\n",
    "model_multi_label.add(Embedding(max_features,\n",
    "                                embedding_dim,\n",
    "                                embeddings_initializer=tf.keras.initializers.Constant(embedding_matrix),\n",
    "                                input_length=max_text_length,\n",
    "                                trainable=False))\n",
    "model_multi_label.add(Dropout(0.2))\n",
    "filters = 250\n",
    "kernel_size = 3\n",
    "hidden_dims=250\n",
    "model_multi_label.add(Conv1D(filters,\n",
    "                             kernel_size,\n",
    "                             padding='valid',\n",
    "                             activation='relu'))\n",
    "model_multi_label.add(MaxPooling1D())\n",
    "model_multi_label.add(Conv1D(filters,\n",
    "                             5,\n",
    "                             padding='valid',\n",
    "                             activation='relu'))\n",
    "model_multi_label.add(GlobalMaxPooling1D())\n",
    "model_multi_label.add(Dense(hidden_dims, activation='relu'))\n",
    "model_multi_label.add(Dropout(0.2))\n",
    "\n",
    "model_multi_label.add(Dense(6, activation='sigmoid'))\n",
    "model_multi_label.summary()\n",
    "\n",
    "\n",
    "model_multi_label.compile(loss='binary_crossentropy',\n",
    "                           optimizer='adam',\n",
    "                           metrics=['accuracy'])\n"
   ]
  },
  {
   "cell_type": "code",
   "execution_count": 11,
   "id": "6cf51752",
   "metadata": {},
   "outputs": [
    {
     "name": "stdout",
     "output_type": "stream",
     "text": [
      "Epoch 1/3\n",
      "3990/3990 [==============================] - 356s 89ms/step - loss: 0.0660 - binary_accuracy: 0.9774 - val_loss: 0.0544 - val_binary_accuracy: 0.9805\n",
      "Epoch 2/3\n",
      "3990/3990 [==============================] - 334s 84ms/step - loss: 0.0545 - binary_accuracy: 0.9803 - val_loss: 0.0659 - val_binary_accuracy: 0.9792\n",
      "Epoch 3/3\n",
      "3990/3990 [==============================] - 339s 85ms/step - loss: 0.0505 - binary_accuracy: 0.9815 - val_loss: 0.0506 - val_binary_accuracy: 0.9814\n"
     ]
    },
    {
     "data": {
      "text/plain": [
       "<keras.callbacks.History at 0x1abffdbf1f0>"
      ]
     },
     "execution_count": 11,
     "metadata": {},
     "output_type": "execute_result"
    }
   ],
   "source": [
    "\n",
    "model_multi_label.compile(loss='binary_crossentropy',\n",
    "              optimizer='adam',\n",
    "              metrics=['binary_accuracy'])  \n",
    "\n",
    "\n",
    "x_train, x_val, y_train, y_val = train_test_split(x_train_val, y, test_size=0.2, random_state=1)\n",
    "\n",
    "#Training the model\n",
    "batch_size = 32\n",
    "epochs = 3\n",
    "model_multi_label.fit(x_train, y_train,\n",
    "          batch_size=batch_size,\n",
    "          epochs=epochs,\n",
    "          validation_data=(x_val, y_val))\n"
   ]
  },
  {
   "cell_type": "code",
   "execution_count": 26,
   "id": "08907a44",
   "metadata": {},
   "outputs": [
    {
     "name": "stdout",
     "output_type": "stream",
     "text": [
      "1/1 [==============================] - 0s 20ms/step\n",
      "['toxic', 'severe_toxic', 'obscene', 'threat', 'insult', 'identity_hate']\n",
      "Predicted Labels: [1 0 1 0 0 0]\n"
     ]
    }
   ],
   "source": [
    "\n",
    "input_text = \"Fuck around and find out\"\n",
    "\n",
    "# Tokenize the input text\n",
    "text_sequence = x_tokenizer.texts_to_sequences([input_text])\n",
    "# Pad sequences\n",
    "text_sequence_padded = sequence.pad_sequences(text_sequence, maxlen=max_text_length)\n",
    "# Make prediction\n",
    "prediction = model_multi_label.predict(text_sequence_padded)\n",
    "threshold = 0.5\n",
    "toxicity_labels = (prediction > threshold).astype(int)\n",
    "\n",
    "\n",
    "print(['toxic', 'severe_toxic', 'obscene', 'threat', 'insult', 'identity_hate'])\n",
    "print(\"Predicted Labels:\", toxicity_labels[0])"
   ]
  },
  {
   "cell_type": "code",
   "execution_count": 23,
   "id": "44ee5cba",
   "metadata": {},
   "outputs": [],
   "source": [
    "model_multi_label.save(\"multi_label_model.h5\")"
   ]
  },
  {
   "cell_type": "code",
   "execution_count": 16,
   "id": "2c77f105",
   "metadata": {},
   "outputs": [],
   "source": [
    "import pickle\n",
    "\n",
    "# Assuming x_tokenizer is your tokenizer object\n",
    "with open('multilabel_tokenizer.pickle', 'wb') as handle:\n",
    "    pickle.dump(x_tokenizer, handle, protocol=pickle.HIGHEST_PROTOCOL)"
   ]
  },
  {
   "cell_type": "code",
   "execution_count": 17,
   "id": "37ed4d99",
   "metadata": {},
   "outputs": [],
   "source": [
    "# import pickle\n",
    "\n",
    "# # Load tokenizer from file\n",
    "# with open('multilabel_tokenizer.pickle', 'rb') as handle:\n",
    "#     tokenizer = pickle.load(handle)\n",
    "import pickle\n",
    "\n",
    "try:\n",
    "    with open('multilabel_tokenizer.pickle', 'rb') as handle:\n",
    "        tokenizer = pickle.load(handle)\n",
    "except FileNotFoundError:\n",
    "    print(\"Tokenizer file not found. Please ensure the file exists in the specified location.\")\n",
    "except (pickle.PickleError, EOFError) as e:\n",
    "    print(\"Error loading tokenizer:\", e)"
   ]
  },
  {
   "cell_type": "code",
   "execution_count": 18,
   "id": "bf50597e",
   "metadata": {},
   "outputs": [],
   "source": [
    "from tensorflow.keras.models import load_model\n",
    "\n",
    "# Load the saved model\n",
    "loaded_model = load_model(\"multi_label_model.h5\")"
   ]
  },
  {
   "cell_type": "code",
   "execution_count": 25,
   "id": "ae5176c0",
   "metadata": {},
   "outputs": [
    {
     "name": "stdout",
     "output_type": "stream",
     "text": [
      "1/1 [==============================] - 0s 37ms/step\n",
      "[[0.3288826  0.00169114 0.05497004 0.01256188 0.11221161 0.01839871]]\n",
      "['toxic', 'severe_toxic', 'obscene', 'threat', 'insult', 'identity_hate']\n",
      "Predicted Labels: [0 0 0 0 0 0]\n"
     ]
    }
   ],
   "source": [
    "\n",
    "input_text = \"\"\n",
    "\n",
    "text_sequence = tokenizer.texts_to_sequences([input_text])\n",
    "#padding input to max length\n",
    "from tensorflow.keras.preprocessing import text, sequence\n",
    "max_text_length=400\n",
    "text_sequence_padded = sequence.pad_sequences(text_sequence, maxlen=max_text_length)\n",
    "#making prediction\n",
    "prediction = loaded_model.predict(text_sequence_padded)\n",
    "\n",
    "threshold = 0.5\n",
    "print(prediction)\n",
    "toxicity_labels = (prediction > threshold).astype(int)\n",
    "\n",
    "# Print the predicted labels\n",
    "print(['toxic', 'severe_toxic', 'obscene', 'threat', 'insult', 'identity_hate'])\n",
    "print(\"Predicted Labels:\", toxicity_labels[0])"
   ]
  },
  {
   "cell_type": "code",
   "execution_count": 12,
   "id": "84c7dc75",
   "metadata": {},
   "outputs": [
    {
     "name": "stdout",
     "output_type": "stream",
     "text": [
      "998/998 [==============================] - 19s 19ms/step\n",
      "Precision: 0.7890545157619616\n",
      "Recall: 0.6698327190246669\n",
      "F1 Score: 0.7148425677535549\n"
     ]
    }
   ],
   "source": [
    "from sklearn.metrics import precision_score, recall_score, f1_score\n",
    "\n",
    "# Make predictions on validation data\n",
    "y_pred = model_multi_label.predict(x_val)\n",
    "\n",
    "#setting threashold for binary\n",
    "threshold = 0.5\n",
    "y_pred_binary = (y_pred > threshold).astype(int)\n",
    "\n",
    "# Calculate precision, recall, and F1 score for each label\n",
    "precision = precision_score(y_val, y_pred_binary, average='weighted', zero_division=0)\n",
    "recall = recall_score(y_val, y_pred_binary, average='weighted', zero_division=0)\n",
    "f1 = f1_score(y_val, y_pred_binary, average='weighted')\n",
    "\n",
    "print(\"Precision:\", precision)\n",
    "print(\"Recall:\", recall)\n",
    "print(\"F1 Score:\", f1)\n"
   ]
  },
  {
   "cell_type": "code",
   "execution_count": 13,
   "id": "cbbfe1e9",
   "metadata": {},
   "outputs": [
    {
     "name": "stdout",
     "output_type": "stream",
     "text": [
      "Confusion Matrix:\n",
      "[[183210   1226]\n",
      " [  2329   4725]]\n"
     ]
    }
   ],
   "source": [
    "from sklearn.metrics import confusion_matrix\n",
    "\n",
    "# Compute the confusion matrix\n",
    "conf_matrix = confusion_matrix(y_val.flatten(), y_pred_binary.flatten())\n",
    "\n",
    "print(\"Confusion Matrix:\")\n",
    "print(conf_matrix)"
   ]
  },
  {
   "cell_type": "code",
   "execution_count": 14,
   "id": "a29d1509",
   "metadata": {},
   "outputs": [
    {
     "name": "stdout",
     "output_type": "stream",
     "text": [
      "Accuracy: 0.981435061883127\n"
     ]
    }
   ],
   "source": [
    "from sklearn.metrics import accuracy_score\n",
    "\n",
    "# Compute accuracy\n",
    "accuracy = accuracy_score(y_val.flatten(), y_pred_binary.flatten())\n",
    "\n",
    "print(\"Accuracy:\", accuracy)"
   ]
  },
  {
   "cell_type": "code",
   "execution_count": 15,
   "id": "db07c9c1",
   "metadata": {},
   "outputs": [
    {
     "data": {
      "image/png": "[encoded data removed]",
      "text/plain": [
       "<Figure size 1080x720 with 12 Axes>"
      ]
     },
     "metadata": {
      "needs_background": "light"
     },
     "output_type": "display_data"
    }
   ],
   "source": [
    "import matplotlib.pyplot as plt\n",
    "import seaborn as sns\n",
    "from sklearn.metrics import multilabel_confusion_matrix\n",
    "\n",
    "# Compute the confusion matrix\n",
    "conf_matrix = multilabel_confusion_matrix(y_val, y_pred_binary)\n",
    "\n",
    "# Plot the confusion matrix\n",
    "labels = ['toxic', 'severe_toxic', 'obscene', 'threat', 'insult', 'identity_hate']\n",
    "fig, axes = plt.subplots(2, 3, figsize=(15, 10))\n",
    "\n",
    "for i, (label, ax) in enumerate(zip(labels, axes.flatten())):\n",
    "    sns.heatmap(conf_matrix[i], annot=True, fmt='d', cmap='Blues', ax=ax)\n",
    "    ax.set_title(f'Confusion Matrix - {label}')\n",
    "    ax.set_xlabel('Predicted')\n",
    "    ax.set_ylabel('True')\n",
    "\n",
    "plt.tight_layout()\n",
    "plt.show()"
   ]
  },
  {
   "cell_type": "code",
   "execution_count": null,
   "id": "6fc0d528",
   "metadata": {},
   "outputs": [],
   "source": []
  }
 ],
 "metadata": {
  "kernelspec": {
   "display_name": "Python 3 (ipykernel)",
   "language": "python",
   "name": "python3"
  },
  "language_info": {
   "codemirror_mode": {
    "name": "ipython",
    "version": 3
   },
   "file_extension": ".py",
   "mimetype": "text/x-python",
   "name": "python",
   "nbconvert_exporter": "python",
   "pygments_lexer": "ipython3",
   "version": "3.9.3"
  }
 },
 "nbformat": 4,
 "nbformat_minor": 5
}
